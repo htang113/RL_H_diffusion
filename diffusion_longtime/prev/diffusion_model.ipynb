{
 "cells": [
  {
   "cell_type": "code",
   "execution_count": 3,
   "id": "70197cf4-b29d-4f1c-94f2-c0bcf3a6fc7e",
   "metadata": {},
   "outputs": [
    {
     "data": {
      "image/png": "[encoded data removed]",
      "text/plain": [
       "<Figure size 432x288 with 1 Axes>"
      ]
     },
     "metadata": {
      "needs_background": "light"
     },
     "output_type": "display_data"
    }
   ],
   "source": [
    "import ase;\n",
    "from pfp_api_client.pfp.estimator import Estimator, EstimatorCalcMode\n",
    "from pfp_api_client.pfp.calculators.ase_calculator import ASECalculator\n",
    "import matplotlib.pyplot as plt;\n",
    "\n",
    "Epot = [];\n",
    "F = [];\n",
    "al = [3.64+0.0002*i for i in range(40)];\n",
    "estimator = Estimator(model_version=\"v2.0.0\");\n",
    "calculator = ASECalculator(estimator);\n",
    "for a in al:\n",
    "    pos = [(0,0,0),(1/2,1/2,0),(1/2,0,1/2),(0,1/2,1/2)];\n",
    "    atoms = ase.Atoms('Cu4',\n",
    "                  cell=[a, a, a, 90, 90, 90],\n",
    "                  pbc=(True, True, True),\n",
    "                  scaled_positions=pos);\n",
    "    atoms.calc = calculator;\n",
    "    Epot.append(atoms.get_potential_energy());\n",
    "    F.append(atoms.get_forces());\n",
    "plt.plot(al,Epot);"
   ]
  },
  {
   "cell_type": "code",
   "execution_count": 7,
   "id": "06eb8e6c-1fb7-414f-a0d6-af3211c5ada0",
   "metadata": {},
   "outputs": [
    {
     "name": "stdout",
     "output_type": "stream",
     "text": [
      "-12.317091739685566\n"
     ]
    },
    {
     "data": {
      "application/vnd.jupyter.widget-view+json": {
       "model_id": "f11b94d211314122a78cc74e25f04c40",
       "version_major": 2,
       "version_minor": 0
      },
      "text/plain": [
       "NGLWidget()"
      ]
     },
     "metadata": {},
     "output_type": "display_data"
    }
   ],
   "source": [
    "a = 3.645;\n",
    "import ase;\n",
    "import numpy as np;\n",
    "import scipy;\n",
    "from pfp_api_client.pfp.estimator import Estimator, EstimatorCalcMode\n",
    "from pfp_api_client.pfp.calculators.ase_calculator import ASECalculator\n",
    "import nglview as nv\n",
    "from itertools import chain\n",
    "from scipy.sparse import linalg\n",
    "\n",
    "class configuration(object):\n",
    "    def __init__(self, box: list, pos: list, supercell: tuple = (1,1,1), element: str = 'Cu', n_atom: int = 4, pbc: list = (True,True,True)): # set computation supercell box = [a, b, c, alpha, beta, gamma]. unit: A, degree\n",
    "        self.box = [box[i]*supercell[i] for i in range(3)]+box[3:];\n",
    "        self.element = element;\n",
    "        self.n_atom = n_atom*supercell[0]*supercell[1]*supercell[2];\n",
    "        self.pbc = pbc;\n",
    "        estimator = Estimator(model_version=\"v2.0.0\");\n",
    "        self.calculator = ASECalculator(estimator);\n",
    "        self.atoms = ase.Atoms(self.element+str(n_atom),\n",
    "              cell=box,\n",
    "              pbc=self.pbc,\n",
    "              scaled_positions=pos)*supercell;\n",
    "        self.atoms.calc = self.calculator;\n",
    "        \n",
    "        # then we construct a projection operator to transform to mass center coordinate frame\n",
    "        # readers do not need to understand the details\n",
    "        one_direction = [[1]*i+[-i]+[0]*(self.n_atom-i-1) for i in range(1, self.n_atom)];\n",
    "        self.projector = np.matrix([[one_direction[i//3][j//3]*(i%3 == j%3)/np.sqrt((i//3+2)*(i//3+1)) for j in range(3*self.n_atom)] for i in range(3*self.n_atom-3)])\n",
    "        \n",
    "    def set_atoms(self, pos:list):    # set atomic positions in the configuration by fraction coordinate list pos = [\\vec x_1, ..., \\vec x_N]\n",
    "        self.atoms = ase.Atoms(self.element+str(self.n_atom),\n",
    "              cell=self.box,\n",
    "              pbc=self.pbc,\n",
    "              scaled_positions=pos);\n",
    "        self.atoms.calc = self.calculator;\n",
    "        return self.atoms;\n",
    "    \n",
    "    def force(self):     # compute force on each atom f = [\\vec f_1, ..., \\vec f_N]. unit: eV/A\n",
    "        return self.atoms.get_forces();\n",
    "    \n",
    "    def potential(self):   # compute total potential energy. unit: eV\n",
    "        return self.atoms.get_potential_energy();\n",
    "    \n",
    "    def plot_configuration(self):  # plot the atomic configuration\n",
    "        v = nv.show_ase(self.atoms, viewer=\"ngl\");\n",
    "        v.add_label(\n",
    "            color=\"blue\", labelType=\"text\",\n",
    "            labelText=[self.atoms[i].symbol + str(i) for i in range(self.atoms.get_global_number_of_atoms())],\n",
    "            zOffset=1.0, attachment='middle_center', radius=1.0\n",
    "        );\n",
    "        return v;\n",
    "    \n",
    "    def compute_Hessian(self, step: float = 0.01):\n",
    "        pos = self.atoms.get_scaled_positions();\n",
    "        cell = self.atoms.get_cell().tolist();\n",
    "        self.Hessian = [];\n",
    "        for atom in range(len(pos)):\n",
    "            for i in range(3):\n",
    "                b_matrix = conf.atoms.cell.reciprocal().tolist();\n",
    "                for j in range(3):\n",
    "                    pos[atom][j] += step*b_matrix[j][i]; \n",
    "                self.set_atoms(pos);\n",
    "                self.Hessian.append(list(chain(*-self.force()/step)));\n",
    "                for j in range(3):\n",
    "                    pos[atom][j] -= step*b_matrix[j][i];\n",
    "        self.set_atoms(pos);\n",
    "        return self.Hessian;\n",
    "    \n",
    "    def compute_vibration_modes(self):\n",
    "        H_projected = self.projector*self.Hessian*self.projector.T;\n",
    "        M_reduced = self.projector*np.diag([self.atoms.get_masses()[i//3] for i in range(self.n_atom*3)])*self.projector.T;\n",
    "        omega2 = scipy.linalg.eigvalsh(H_projected, b =M_reduced);\n",
    "        self.omega2 = 64.654**2*omega2;\n",
    "        return self.omega2;\n",
    "    \n",
    "box = [a, a, a, 90, 90, 90];\n",
    "pos = [(0,0,0),(1/2,1/2,0),(1/2,0,1/2),(0,1/2,1/2)];\n",
    "conf = configuration(box,pos,supercell = (1,1,1));\n",
    "#print(conf.force());\n",
    "print(conf.potential());\n",
    "conf.compute_Hessian();\n",
    "conf.compute_vibration_modes();\n",
    "conf.plot_configuration()\n"
   ]
  },
  {
   "cell_type": "code",
   "execution_count": 71,
   "id": "18e0f741-c8d9-4b75-9f30-b85d8b5351da",
   "metadata": {},
   "outputs": [
    {
     "name": "stdout",
     "output_type": "stream",
     "text": [
      "-12.317091020920998\n"
     ]
    }
   ],
   "source": [
    "box = [a, a, a, 90, 90, 90];\n",
    "pos = [(0,0,0),(1/2,1/2,0),(1/2,0,1/2),(0,1/2,1/2)];\n",
    "conf = configuration(box,pos,supercell = (1,1,1));\n",
    "#print(conf.force());\n",
    "print(conf.potential());"
   ]
  },
  {
   "cell_type": "code",
   "execution_count": 18,
   "id": "b1cae46b-9156-449e-bff8-3091f589df07",
   "metadata": {},
   "outputs": [
    {
     "data": {
      "text/plain": [
       "array([19.66746557, 19.66766029, 19.66792244, 19.66809611, 19.66837188,\n",
       "       19.6685391 , 28.5958134 , 28.59592801, 28.59638883])"
      ]
     },
     "execution_count": 18,
     "metadata": {},
     "output_type": "execute_result"
    }
   ],
   "source": [
    "np.sqrt(conf.omega2)"
   ]
  },
  {
   "cell_type": "code",
   "execution_count": null,
   "id": "4bcb2e20-9b79-4bd6-a138-08b42183024f",
   "metadata": {},
   "outputs": [],
   "source": []
  },
  {
   "cell_type": "code",
   "execution_count": null,
   "id": "c38fa4dd-b1da-4a7f-8cd0-fe3b49ab29e1",
   "metadata": {},
   "outputs": [],
   "source": []
  }
 ],
 "metadata": {
  "kernelspec": {
   "display_name": "Python 3.7",
   "language": "python",
   "name": "python37"
  },
  "language_info": {
   "codemirror_mode": {
    "name": "ipython",
    "version": 3
   },
   "file_extension": ".py",
   "mimetype": "text/x-python",
   "name": "python",
   "nbconvert_exporter": "python",
   "pygments_lexer": "ipython3",
   "version": "3.7.13"
  }
 },
 "nbformat": 4,
 "nbformat_minor": 5
}
