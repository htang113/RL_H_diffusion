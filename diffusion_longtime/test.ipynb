{
 "cells": [
  {
   "cell_type": "code",
   "execution_count": null,
   "id": "3b9468ce-8c79-441a-9e86-4ce9ae3119e3",
   "metadata": {},
   "outputs": [],
   "source": []
  },
  {
   "cell_type": "code",
   "execution_count": 14,
   "id": "8021531d-fc51-42b1-b39f-f4ad8cab4320",
   "metadata": {},
   "outputs": [],
   "source": [
    "from configuration import configuration;\n",
    "from trajectory import trajectory;\n",
    "from step import move;\n",
    "import numpy as np;\n",
    "import multiprocessing;\n",
    "import json;\n",
    "\n",
    "from model import descriptorNN;\n",
    "from sample import sample;\n",
    "import torch;\n",
    "\n",
    "n_traj = 10;\n",
    "\n",
    "a = 3.645;\n",
    "box = [a,a,a,90,90,90];\n",
    "pos = [(0,0,0), (1/2,1/2,0), (1/2,0,1/2),(0,1/2,1/2)];\n",
    "pos = [[p1+0.1 for p1 in p] for p in pos];\n",
    "conf = configuration(box,pos,supercell=(2,2,2));\n",
    "conf.set_potential();"
   ]
  },
  {
   "cell_type": "code",
   "execution_count": 17,
   "id": "612500e7-bf7f-4fad-b814-f0f3750127e0",
   "metadata": {},
   "outputs": [
    {
     "data": {
      "text/plain": [
       "-98.53670171188878"
      ]
     },
     "execution_count": 17,
     "metadata": {},
     "output_type": "execute_result"
    }
   ],
   "source": [
    "conf.atoms.get_potential_energy()"
   ]
  },
  {
   "cell_type": "code",
   "execution_count": null,
   "id": "688b87f0-4a69-4369-b944-8218fdb5046e",
   "metadata": {},
   "outputs": [],
   "source": []
  }
 ],
 "metadata": {
  "kernelspec": {
   "display_name": "Python 3.8",
   "language": "python",
   "name": "python38"
  },
  "language_info": {
   "codemirror_mode": {
    "name": "ipython",
    "version": 3
   },
   "file_extension": ".py",
   "mimetype": "text/x-python",
   "name": "python",
   "nbconvert_exporter": "python",
   "pygments_lexer": "ipython3",
   "version": "3.8.13"
  }
 },
 "nbformat": 4,
 "nbformat_minor": 5
}
