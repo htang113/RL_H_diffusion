{
 "cells": [
  {
   "cell_type": "code",
   "execution_count": null,
   "id": "3b9468ce-8c79-441a-9e86-4ce9ae3119e3",
   "metadata": {},
   "outputs": [],
   "source": [
    "from configuration import configuration;\n",
    "from trajectory import trajectory;\n",
    "from step import environment;\n",
    "import numpy as np;\n",
    "import multiprocessing;\n",
    "import json;\n",
    "\n",
    "from model import descriptorNN;\n",
    "import torch;\n",
    "from train import PPO;\n",
    "from action_space import actions;\n",
    "\n",
    "n_traj = 10;\n",
    "conf = configuration();\n",
    "conf.load('POSCARs/CONTCAR_H_Cu1');\n",
    "conf.set_potential();\n",
    "env = environment(conf, max_iter=30);\n",
    "env.relax(accuracy = 0.05)\n",
    "print(conf.potential())\n",
    "conf.plot_configuration()\n",
    "model = descriptorNN();\n",
    "trainer = PPO(model);\n",
    "traj = trajectory(1,0);\n",
    "\n",
    "horizon = 100;\n",
    "for epoch in range(horizon):\n",
    "    action_space = actions(conf);\n",
    "    act_id, act_probs = trainer.select_action(conf.atoms,action_space);\n",
    "    action = action_space[act_id];\n",
    "    info = {'act':act_id, 'act_probs':act_probs.tolist(),'act_space':action_space,'state':conf.atoms.copy(),\n",
    "            'E_min':conf.potential()};\n",
    "\n",
    "    E_next, fail = env.step(action, accuracy = 0.02);\n",
    "    if(not fail):\n",
    "        E_s, fail = env.saddle();\n",
    "        info['E_s'] = E_s;\n",
    "\n",
    "    info['next'], info['fail'], info['E_next'] =conf.atoms.copy(), fail, E_next;\n",
    "    traj.add(info);\n",
    "    trainer.update(traj,0.9)"
   ]
  }
 ],
 "metadata": {
  "kernelspec": {
   "display_name": "Python 3.8",
   "language": "python",
   "name": "python38"
  },
  "language_info": {
   "codemirror_mode": {
    "name": "ipython",
    "version": 3
   },
   "file_extension": ".py",
   "mimetype": "text/x-python",
   "name": "python",
   "nbconvert_exporter": "python",
   "pygments_lexer": "ipython3",
   "version": "3.8.13"
  }
 },
 "nbformat": 4,
 "nbformat_minor": 5
}
