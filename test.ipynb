{
 "cells": [
  {
   "cell_type": "code",
   "execution_count": 1,
   "metadata": {},
   "outputs": [],
   "source": [
    "%load_ext autoreload\n",
    "%autoreload 2"
   ]
  },
  {
   "cell_type": "code",
   "execution_count": 6,
   "metadata": {},
   "outputs": [],
   "source": [
    "import torch\n",
    "import torch.nn as nn\n",
    "import torch.optim as optim\n",
    "import numpy as np\n",
    "from rgnn.graph.dataset.reaction import ReactionDataset\n",
    "from rgnn.graph.reaction import ReactionGraph\n",
    "from rgnn.graph.utils import batch_to\n",
    "from rgnn.models.reaction_models import PaiNN\n",
    "from rgnn.models.reaction import ReactionGNN\n",
    "from rlmd.configuration import configuration;\n",
    "from rlmd.trajectory import trajectory;\n",
    "from rlmd.step import environment;\n",
    "from rlmd.model import Q_NN;\n",
    "from rlmd.train import Context_Bandit;\n",
    "from rlmd.action_space import actions;\n",
    "from rlmd.train_graph import ContextBandit"
   ]
  },
  {
   "cell_type": "code",
   "execution_count": 17,
   "metadata": {},
   "outputs": [
    {
     "name": "stdout",
     "output_type": "stream",
     "text": [
      "None None\n",
      "Using Materials Project MACE for MACECalculator with /home/hjchun/.cache/mace/5yyxdm76\n",
      "Using float32 for MACECalculator, which is faster but less accurate. Recommended for MD. Use float64 for geometry optimization.\n",
      "Default dtype float32 does not match model dtype float64, converting models to float32.\n"
     ]
    }
   ],
   "source": [
    "task = 'MEA_freq1';\n",
    "if task not in os.listdir():\n",
    "    os.makedirs(task, exist_ok=True)\n",
    "horizon = 30;\n",
    "n_traj = 101;\n",
    "\n",
    "model = Q_NN(elements=[1,24,27,28],r_cut = 4, \n",
    "             N_emb=24, N_fit = 128, atom_max = 40);\n",
    "species = [\"H\", \"Cr\", \"Co\", \"Ni\"]\n",
    "means = {'barrier': torch.tensor(0.6652), 'freq': torch.tensor(2.8553), 'delta_e': torch.tensor(0.0081)} \n",
    "stddevs = {'barrier': torch.tensor(0.4665), 'freq': torch.tensor(0.7151), 'delta_e': torch.tensor(0.2713)}\n",
    "model_graph = PaiNN(species=species)\n",
    "reaction_model = ReactionGNN(model_graph)\n",
    "\n",
    "trainer = Context_Bandit(model,temperature = 1000);\n",
    "trainer_graph = ContextBandit(reaction_model,temperature = 1000);\n",
    "\n",
    "pool = ['POSCARs/CONTCAR_H_CCN'+str(i) for i in range(1,10)];\n",
    "conf = configuration();\n",
    "file = pool[np.random.randint(len(pool))];\n",
    "conf.load(file);\n",
    "# print('epoch = '+str(epoch)+':  '+file);\n",
    "conf.set_potential(platform=\"mace\");\n",
    "env = environment(conf, logfile = task+'/log', max_iter=100);\n",
    "env.relax(accuracy = 0.1)\n",
    "# traj_list.append(trajectory(1,0));\n",
    "\n",
    "action_space = actions(conf,dist_mul_body = 1.2, act_mul = 1.6,act_mul_move = 1.2);"
   ]
  },
  {
   "cell_type": "code",
   "execution_count": 19,
   "metadata": {},
   "outputs": [],
   "source": [
    "reaction_model.reaction_model.means = {'barrier': torch.tensor(0.6652), 'freq': torch.tensor(2.8553), 'delta_e': torch.tensor(0.0081)} "
   ]
  },
  {
   "cell_type": "code",
   "execution_count": 21,
   "metadata": {},
   "outputs": [
    {
     "data": {
      "text/plain": [
       "{'barrier': tensor(0.6652), 'freq': tensor(2.8553), 'delta_e': tensor(0.0081)}"
      ]
     },
     "execution_count": 21,
     "metadata": {},
     "output_type": "execute_result"
    }
   ],
   "source": [
    "reaction_model.reaction_model.means"
   ]
  },
  {
   "cell_type": "code",
   "execution_count": 8,
   "metadata": {},
   "outputs": [
    {
     "name": "stdout",
     "output_type": "stream",
     "text": [
      "13\n",
      "tensor([0.0537, 0.0558, 0.0555, 0.0548, 0.0478, 0.0480, 0.0489, 0.0483, 0.0530,\n",
      "        0.0517, 0.0528, 0.0516, 0.0485, 0.0458, 0.0489, 0.0463, 0.0483, 0.0456,\n",
      "        0.0487, 0.0461], grad_fn=<SoftmaxBackward0>)\n",
      "tensor([[0.0685, 0.1099],\n",
      "        [0.0718, 0.1102],\n",
      "        [0.0713, 0.1104],\n",
      "        [0.0702, 0.1105],\n",
      "        [0.0591, 0.1028],\n",
      "        [0.0594, 0.1027],\n",
      "        [0.0610, 0.1035],\n",
      "        [0.0600, 0.1030],\n",
      "        [0.0683, 0.0980],\n",
      "        [0.0662, 0.0979],\n",
      "        [0.0681, 0.0981],\n",
      "        [0.0661, 0.0979],\n",
      "        [0.0594, 0.1130],\n",
      "        [0.0544, 0.1131],\n",
      "        [0.0602, 0.1133],\n",
      "        [0.0555, 0.1134],\n",
      "        [0.0591, 0.1128],\n",
      "        [0.0542, 0.1130],\n",
      "        [0.0598, 0.1130],\n",
      "        [0.0550, 0.1132]], grad_fn=<SelectBackward0>)\n"
     ]
    }
   ],
   "source": [
    "act_id, act_probs,Q = trainer.select_action(conf.atoms,action_space);\n",
    "print(act_id)\n",
    "print(act_probs)\n",
    "print(Q)"
   ]
  },
  {
   "cell_type": "code",
   "execution_count": 16,
   "metadata": {},
   "outputs": [
    {
     "name": "stdout",
     "output_type": "stream",
     "text": [
      "torch.Size([4])\n",
      "torch.Size([16, 1]) torch.Size([16, 1]) torch.Size([16, 1]) torch.Size([16, 1])\n",
      "torch.Size([16])\n",
      "torch.Size([4])\n",
      "torch.Size([4, 1]) torch.Size([4, 1]) torch.Size([4, 1]) torch.Size([4, 1])\n",
      "torch.Size([4])\n",
      "torch.Size([20])\n",
      "torch.Size([20])\n",
      "18\n",
      "tensor([0.0379, 0.0435, 0.0418, 0.0436, 0.0472, 0.0446, 0.0467, 0.0480, 0.0432,\n",
      "        0.0433, 0.0447, 0.0436, 0.0616, 0.0579, 0.0567, 0.0549, 0.0645, 0.0562,\n",
      "        0.0624, 0.0576], device='cuda:0')\n",
      "tensor([-0.1954, -0.0567, -0.0973, -0.0548,  0.0245, -0.0320,  0.0145,  0.0405,\n",
      "        -0.0651, -0.0618, -0.0305, -0.0542,  0.2899,  0.2284,  0.2082,  0.1757,\n",
      "         0.3372,  0.1989,  0.3030,  0.2236], device='cuda:0')\n"
     ]
    }
   ],
   "source": [
    "act_id, act_probs,Q = trainer_graph.select_action(conf.atoms,action_space);\n",
    "print(act_id)\n",
    "print(act_probs)\n",
    "print(Q)"
   ]
  },
  {
   "cell_type": "code",
   "execution_count": 21,
   "metadata": {},
   "outputs": [
    {
     "name": "stdout",
     "output_type": "stream",
     "text": [
      "[-0.8453077224347045, 1.0320070718457819, -0.4247543502455824]\n",
      "[ 8.94668499 14.08908368  7.4275432 ]\n"
     ]
    }
   ],
   "source": [
    "final_atoms = conf.atoms.copy()\n",
    "final_positions = []\n",
    "for i, pos in enumerate(final_atoms.get_positions()):\n",
    "    if i == act[0]:\n",
    "        new_pos = pos+act[1:]\n",
    "        final_positions.append(new_pos)\n",
    "    else:\n",
    "        final_positions.append(pos)\n",
    "final_atoms.set_positions(final_positions)"
   ]
  },
  {
   "cell_type": "code",
   "execution_count": 22,
   "metadata": {},
   "outputs": [],
   "source": [
    "from ase import io\n",
    "io.write(\"inital.vasp\", conf.atoms)\n",
    "io.write(\"final.vasp\", final_atoms)"
   ]
  },
  {
   "cell_type": "code",
   "execution_count": null,
   "metadata": {},
   "outputs": [],
   "source": []
  }
 ],
 "metadata": {
  "kernelspec": {
   "display_name": "rl-env",
   "language": "python",
   "name": "python3"
  },
  "language_info": {
   "codemirror_mode": {
    "name": "ipython",
    "version": 3
   },
   "file_extension": ".py",
   "mimetype": "text/x-python",
   "name": "python",
   "nbconvert_exporter": "python",
   "pygments_lexer": "ipython3",
   "version": "3.10.13"
  },
  "orig_nbformat": 4,
  "vscode": {
   "interpreter": {
    "hash": "e0686b9a1042a9901f7686f95b9ffc340541ab62f779f734f28326a879e1c72d"
   }
  }
 },
 "nbformat": 4,
 "nbformat_minor": 2
}
